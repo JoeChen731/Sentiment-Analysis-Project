{
 "cells": [
  {
   "cell_type": "code",
   "execution_count": 1,
   "id": "148d4ddc-0662-409d-9fa5-531157b52cb9",
   "metadata": {},
   "outputs": [],
   "source": [
    "import pandas as pd\n",
    "import numpy as np\n",
    "import matplotlib.pyplot as plt\n",
    "import seaborn as sns\n",
    "from textblob import TextBlob\n",
    "from nltk.corpus import stopwords\n",
    "import re"
   ]
  },
  {
   "cell_type": "code",
   "execution_count": 3,
   "id": "73e62648-619b-47f0-8ca3-0a1305f2e659",
   "metadata": {},
   "outputs": [
    {
     "name": "stdout",
     "output_type": "stream",
     "text": [
      "   Id   ProductId          UserId                      ProfileName  \\\n",
      "0   1  B001E4KFG0  A3SGXH7AUHU8GW                       delmartian   \n",
      "1   2  B00813GRG4  A1D87F6ZCVE5NK                           dll pa   \n",
      "2   3  B000LQOCH0   ABXLMWJIXXAIN  Natalia Corres \"Natalia Corres\"   \n",
      "3   4  B000UA0QIQ  A395BORC6FGVXV                             Karl   \n",
      "4   5  B006K2ZZ7K  A1UQRSCLF8GW1T    Michael D. Bigham \"M. Wassir\"   \n",
      "\n",
      "   HelpfulnessNumerator  HelpfulnessDenominator  Score        Time  \\\n",
      "0                     1                       1      5  1303862400   \n",
      "1                     0                       0      1  1346976000   \n",
      "2                     1                       1      4  1219017600   \n",
      "3                     3                       3      2  1307923200   \n",
      "4                     0                       0      5  1350777600   \n",
      "\n",
      "                 Summary                                               Text  \n",
      "0  Good Quality Dog Food  I have bought several of the Vitality canned d...  \n",
      "1      Not as Advertised  Product arrived labeled as Jumbo Salted Peanut...  \n",
      "2  \"Delight\" says it all  This is a confection that has been around a fe...  \n",
      "3         Cough Medicine  If you are looking for the secret ingredient i...  \n",
      "4            Great taffy  Great taffy at a great price.  There was a wid...  \n"
     ]
    }
   ],
   "source": [
    "#load the dataset\n",
    "df = pd.read_csv(\"Reviews.csv\")\n",
    "print(df.head())"
   ]
  },
  {
   "cell_type": "code",
   "execution_count": 6,
   "id": "ff6aadbc-07a6-446f-abd6-51fc1eebdae3",
   "metadata": {},
   "outputs": [
    {
     "name": "stdout",
     "output_type": "stream",
     "text": [
      "                                                Text  Score Sentiment\n",
      "0  I have bought several of the Vitality canned d...      5  Positive\n",
      "1  Product arrived labeled as Jumbo Salted Peanut...      1  Negative\n",
      "2  This is a confection that has been around a fe...      4  Positive\n",
      "3  If you are looking for the secret ingredient i...      2  Negative\n",
      "4  Great taffy at a great price.  There was a wid...      5  Positive\n"
     ]
    }
   ],
   "source": [
    "#Data cleaning\n",
    "\n",
    "#Drop unnecessary columns\n",
    "df = df[['Text','Score']]\n",
    "\n",
    "#Handle missing values\n",
    "df.dropna(inplace=True)\n",
    "\n",
    "#Remove duplicates\n",
    "df.drop_duplicates(inplace=True)\n",
    "\n",
    "#Covert Score to sentiment(1-2: Negative, 3:Neutral, 4-5: Positive)\n",
    "df['Sentiment'] = df['Score'].apply(lambda x: 'Positive' if x > 3 else ('Negative' if x < 3 else 'Neutral'))\n",
    "\n",
    "#Display the cleaned Data\n",
    "print(df.head())"
   ]
  },
  {
   "cell_type": "code",
   "execution_count": 13,
   "id": "8e28e094-9fc1-4edb-bbcb-d23ff31ca426",
   "metadata": {},
   "outputs": [
    {
     "name": "stderr",
     "output_type": "stream",
     "text": [
      "[nltk_data] Downloading package stopwords to\n",
      "[nltk_data]     C:\\Users\\a8112\\AppData\\Roaming\\nltk_data...\n",
      "[nltk_data]   Package stopwords is already up-to-date!\n"
     ]
    },
    {
     "name": "stdout",
     "output_type": "stream",
     "text": [
      "                                                Text  \\\n",
      "0  I have bought several of the Vitality canned d...   \n",
      "1  Product arrived labeled as Jumbo Salted Peanut...   \n",
      "2  This is a confection that has been around a fe...   \n",
      "3  If you are looking for the secret ingredient i...   \n",
      "4  Great taffy at a great price.  There was a wid...   \n",
      "\n",
      "                                        Cleaned_Text  \n",
      "0  bought several vitality canned dog food produc...  \n",
      "1  product arrived labeled jumbo salted peanutsth...  \n",
      "2  confection around centuries light pillowy citr...  \n",
      "3  looking secret ingredient robitussin believe f...  \n",
      "4  great taffy great price wide assortment yummy ...  \n"
     ]
    }
   ],
   "source": [
    "#Text Preprocessing\n",
    "\n",
    "#Download stopwords\n",
    "import nltk\n",
    "nltk.download('stopwords')\n",
    "stop_words = set(stopwords.words('english'))\n",
    "\n",
    "#Function to clean text\n",
    "def clean_text(text):\n",
    "    #remove special characters and numbers\n",
    "    text = re.sub(r'[^a-zA-Z\\s]','', text)\n",
    "    #covert to lowercase\n",
    "    text = text.lower()\n",
    "    #remoe stopwords\n",
    "    text = ' '.join([word for word in text.split() if word not in stop_words])\n",
    "    return text\n",
    "    \n",
    "#Apply cleaning to the text column\n",
    "df['Cleaned_Text'] = df['Text'].apply(clean_text)\n",
    "\n",
    "# Display cleaned text\n",
    "print(df[['Text', 'Cleaned_Text']].head())"
   ]
  },
  {
   "cell_type": "code",
   "execution_count": 15,
   "id": "6bc5bbb7-4ffc-4971-a2a0-b0de2613a6b9",
   "metadata": {},
   "outputs": [
    {
     "name": "stdout",
     "output_type": "stream",
     "text": [
      "                                                Text Sentiment  \\\n",
      "0  I have bought several of the Vitality canned d...  Positive   \n",
      "1  Product arrived labeled as Jumbo Salted Peanut...  Negative   \n",
      "2  This is a confection that has been around a fe...  Positive   \n",
      "3  If you are looking for the secret ingredient i...  Negative   \n",
      "4  Great taffy at a great price.  There was a wid...  Positive   \n",
      "\n",
      "  Predicted_Sentiment  \n",
      "0            Positive  \n",
      "1            Positive  \n",
      "2            Positive  \n",
      "3            Positive  \n",
      "4            Positive  \n"
     ]
    }
   ],
   "source": [
    "#Function to get sentiment polarity\n",
    "def get_sentiment(text):\n",
    "    analysis = TextBlob(text)\n",
    "    return analysis.sentiment.polarity\n",
    "\n",
    "#apply sentiment analysis\n",
    "df['Polarity'] = df['Cleaned_Text'].apply(get_sentiment)\n",
    "\n",
    "# Classify sentiment based on polarity\n",
    "df['Predicted_Sentiment'] = df['Polarity'].apply(lambda x: 'Positive' if x > 0 else ('Negative' if x < 0 else 'Neutral'))\n",
    "\n",
    "# Display results\n",
    "print(df[['Text', 'Sentiment', 'Predicted_Sentiment']].head())"
   ]
  },
  {
   "cell_type": "code",
   "execution_count": 16,
   "id": "d1d1cf35-6acd-41d3-bfdc-1e1f4730f064",
   "metadata": {},
   "outputs": [
    {
     "data": {
      "image/png": "[encoded data removed]",
      "text/plain": [
       "<Figure size 640x480 with 1 Axes>"
      ]
     },
     "metadata": {},
     "output_type": "display_data"
    }
   ],
   "source": [
    "#Plot sentiment distribution\n",
    "sns.countplot(x='Predicted_Sentiment', data=df)\n",
    "plt.title('Sentiment Distribution')\n",
    "plt.show()"
   ]
  },
  {
   "cell_type": "code",
   "execution_count": 17,
   "id": "fa6c65b7-8b4c-40a7-bdc1-b556c803e824",
   "metadata": {},
   "outputs": [
    {
     "ename": "SyntaxError",
     "evalue": "invalid syntax (3081662196.py, line 1)",
     "output_type": "error",
     "traceback": [
      "\u001b[1;36m  Cell \u001b[1;32mIn[17], line 1\u001b[1;36m\u001b[0m\n\u001b[1;33m    git add.\u001b[0m\n\u001b[1;37m        ^\u001b[0m\n\u001b[1;31mSyntaxError\u001b[0m\u001b[1;31m:\u001b[0m invalid syntax\n"
     ]
    }
   ],
   "source": [
    "git add."
   ]
  }
 ],
 "metadata": {
  "kernelspec": {
   "display_name": "Python 3 (ipykernel)",
   "language": "python",
   "name": "python3"
  },
  "language_info": {
   "codemirror_mode": {
    "name": "ipython",
    "version": 3
   },
   "file_extension": ".py",
   "mimetype": "text/x-python",
   "name": "python",
   "nbconvert_exporter": "python",
   "pygments_lexer": "ipython3",
   "version": "3.11.5"
  }
 },
 "nbformat": 4,
 "nbformat_minor": 5
}
